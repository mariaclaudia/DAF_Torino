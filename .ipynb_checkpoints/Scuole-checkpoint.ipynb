{
 "cells": [
  {
   "cell_type": "markdown",
   "metadata": {},
   "source": [
    "### MIUR - Dataset su edifici scolastici e alunni: \n",
    "\n",
    "Data pubblicazione:\t09/03/2017\n",
    "Dati al:\t31/08/2016 - 201516\n",
    "\n",
    "http://dati.istruzione.it/opendata/opendata/catalogo/elements1/leaf/?datasetId=DS0200EDIANAGRAFESTA\n",
    "\n",
    "\n",
    "http://dati.ustat.miur.it/dataset/07d1c63f-9b1a-47f0-9648-66663e59c3f6/resource/9bebad94-3c0b-469e-8e50-b474d52aeb27/download/file02_2015-16_provenienze.csv\n",
    "\n",
    "n.b da specificare:\n",
    "\n",
    "Informazioni anagrafiche scuole delle province autonome di Aosta, Trento e Bolzano equiparate a scuole statali.\n",
    "Nel flusso di dati sono contenute le informazioni riguardanti l'anagrafe delle scuole province autonome di Aosta, Trento e Bolzano equiparate a scuole statali.\n",
    "\n",
    "Dati 2016/2017 (i più aggiornati, non stesso anno di edilizia ma poco importa)\n",
    "\n",
    "** Anagrafica scuole - Anno 2017-2018** (link alla cartella data, come negli altri)\n",
    "   * [Informazioni anagrafiche scuole statali](http://dati.istruzione.it/opendata/opendata/catalogo/elements1/leaf/AS1718SCUANAGRAFESTAT20170731.csv)\n",
    "\n",
    "   * [Informazioni anagrafiche scuole paritarie](http://dati.istruzione.it/opendata/opendata/catalogo/elements1/AS1718SCUANAGRAFEPAR20170731.csv)\n",
    "   \n",
    "   * [Informazioni anagrafiche scuole delle province autonome di Aosta, Trento e Bolzano equiparate a scuole statali](http://dati.istruzione.it/opendata/opendata/catalogo/elements1/AS1718SCUANAAUTSTAT20170731.csv)\n",
    "   \n",
    "   * [Informazioni anagrafiche scuole paritarie delle province autonome di Aosta, Trento e Bolzano](http://dati.istruzione.it/opendata/opendata/catalogo/elements1/AS1718SCUANAAUTPAR20170731.csv)\n",
    "   \n",
    "   \n",
    "** Studenti **\n",
    "\n",
    "   * [Studenti per anno di corso e fascia di eta'. Scuola statale](http://dati.istruzione.it/opendata/opendata/catalogo/elements1/leaf/ALUCORSOETASTA20170221.csv)\n",
    "\n",
    "   * [Studenti per anno di corso e fascia di eta'. Scuola paritaria](http://dati.istruzione.it/opendata/opendata/catalogo/elements1/leaf/ALUCORSOETAPAR20170221.csv)\n",
    "   \n",
    "\n",
    "** Edilizia scuola **\n",
    "\n",
    "   * [Elenco degli edifici scolastici statali attivi e loro locazione.](http://dati.istruzione.it/opendata/opendata/catalogo/elements1/EDIANAGRAFESTA20160831.csv)\n",
    "   * [Presenza vincoli degli edifici scolastici statali (idrogeologici, sismici...)](http://dati.istruzione.it/opendata/opendata/catalogo/elements1/EDIVINCOLISTA20160831.csv)\n",
    "   * [Uso di origine e data di costruzione e degli edifici scolastici statali.](http://dati.istruzione.it/opendata/opendata/catalogo/elements1/EDIETAORIGINESTA20160831.csv)\n",
    "   * [Superfici e volumi degli edifici scolastici statali (mq).](http://dati.istruzione.it/opendata/opendata/catalogo/elements1/EDICONSISTENZASTA20160831.csv)\n",
    "   * [Raggiungibilita' degli edifici scolastici statali (mezzi pubblici, scuolabus..)](http://dati.istruzione.it/opendata/opendata/catalogo/elements1/EDICOLLEGAMENTISTA20160831.csv)"
   ]
  },
  {
   "cell_type": "code",
   "execution_count": null,
   "metadata": {},
   "outputs": [],
   "source": [
    "%matplotlib inline\n",
    "import numpy as np\n",
    "import matplotlib.pyplot as plt\n",
    "import pandas as pd\n",
    "import seaborn as sns\n",
    "import os\n",
    "from pandas import DataFrame \n",
    "from IPython.display import display, HTML\n",
    "from IPython.core.interactiveshell import InteractiveShell\n",
    "InteractiveShell.ast_node_interactivity = \"all\" #setta l'esecuzione di più statement in unica cella\n",
    "\n",
    "pd.set_option('display.max_colwidth', -1) \n",
    "pd.set_option('display.width', 5000) \n",
    "pd.set_option('display.max_columns', 100) \n",
    "# Set up formatting so larger numbers aren't displayed in scientific notation (h/t @thecapacity)\n",
    "pd.set_option('display.float_format', lambda x: '%.3f' % x)"
   ]
  },
  {
   "cell_type": "markdown",
   "metadata": {},
   "source": [
    "### MIUR - Dati - Alunni per edifici scolastici\n",
    "\n",
    "NB: i nomi colonne hanno uno space iniziale - esegui strip()"
   ]
  },
  {
   "cell_type": "code",
   "execution_count": null,
   "metadata": {},
   "outputs": [],
   "source": [
    "# Creo il dataframe SCUOLE con le info basi delle scuole\n",
    "#Carico file di anagrafica base delle scuole\n",
    "fileDir = os.path.dirname(os.path.realpath('__file__'))\n",
    "output_folder = os.path.join(fileDir, 'data/MIUR/anagrafica')\n",
    "listing = os.listdir(output_folder)   \n",
    "#loop in csv files from folder\n",
    "scuole = DataFrame()\n",
    "list_ = []\n",
    "\n",
    "for infile in listing: \n",
    "    #filename = os.path.join(fileDir, infile)\n",
    "    filename = os.path.join(output_folder, infile)\n",
    "    filehandle = open(filename)\n",
    "    print (filehandle) \n",
    "    data = pd.read_csv(filehandle, sep=\",\", index_col=None, header=0)\n",
    "    list_.append(data)\n",
    "scuole = pd.concat(list_)\n",
    "\n",
    "scuole = scuole.rename(columns=lambda x: x.strip())"
   ]
  },
  {
   "cell_type": "code",
   "execution_count": null,
   "metadata": {},
   "outputs": [],
   "source": [
    "scuole.shape\n",
    "#scuole_columns = list(scuole)\n",
    "scuole_columns_to_keep =[\n",
    " 'AREAGEOGRAFICA',\n",
    " 'CODICEISTITUTORIFERIMENTO',\n",
    " 'CODICESCUOLA',\n",
    " 'DENOMINAZIONEISTITUTORIFERIMENTO',\n",
    " 'DENOMINAZIONESCUOLA',\n",
    " 'DESCRIZIONECOMUNE',\n",
    " 'DESCRIZIONETIPOLOGIAGRADOISTRUZIONESCUOLA',\n",
    " 'INDIRIZZOSCUOLA',\n",
    " 'PROVINCIA',\n",
    " 'REGIONE']\n",
    "#elimino le colonne non necessarie\n",
    "scuole = scuole[scuole_columns_to_keep]\n",
    "scuole.shape"
   ]
  }
 ],
 "metadata": {
  "kernelspec": {
   "display_name": "Python [conda env:mappa]",
   "language": "python",
   "name": "conda-env-mappa-py"
  },
  "language_info": {
   "codemirror_mode": {
    "name": "ipython",
    "version": 3
   },
   "file_extension": ".py",
   "mimetype": "text/x-python",
   "name": "python",
   "nbconvert_exporter": "python",
   "pygments_lexer": "ipython3",
   "version": "3.5.5"
  }
 },
 "nbformat": 4,
 "nbformat_minor": 2
}
