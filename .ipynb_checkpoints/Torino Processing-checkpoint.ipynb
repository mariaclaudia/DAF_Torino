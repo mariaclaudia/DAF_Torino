{
 "cells": [
  {
   "cell_type": "markdown",
   "metadata": {},
   "source": [
    "# DAF - Torino: data processing \n",
    "\n",
    "In questo notebook vengono elencate le operazioni di preprocessing da effettuare sui dataset del comune di Torino (AperTO) prima di procedere all'inserimento nella piattaforma DAF.\n",
    "\n",
    "I dataset presenti ad oggi mappano i servizi nelle circoscrizioni e non nei quartieri.\n",
    "\n",
    "Avendo a disposizione i poligoni dei quartieri e la geometry del servizio è possibile tramite sei servizi offerti ad esempio con geopandas collocare ogni servizio nel quartiere di appartenenza geografica.\n",
    "\n",
    "In fase iniziale si scaricheranno in locale i dataset in formato csv e da questi si procedera con le elaborazioni necessarie e il caricamento in DAF. \n",
    "\n",
    "E' importante tenere in considerazione che sarà necessario stabilire dei flussi di aggiornamento in base alle note sotto riportate.\n",
    "\n",
    "\n",
    "[Geoportale:](http://www.comune.torino.it/geoportale/ser_professionali_2.htm#tabs-4)\n",
    "\n",
    "\n",
    "\n",
    "**NOTA:** \n",
    "\n",
    "La periodicità di aggiornamento è riferita ai dati pubblicati e consultabili sul Visualizzatore del Geoportale.\n",
    "\n",
    "- Aggiornamento settimanale: lunedì.\n",
    "- Aggiornamento trimestrale: gennaio, aprile, luglio, ottobre.\n",
    "- Aggiornamento semestrale: gennaio, luglio.\n",
    "- Aggiornamento annuale: 31/12 dell’anno di riferimento.\n",
    "- L’aggiornamento non è previsto per i dati storici, riferiti a dati consolidati ad una certa data (es. ex quartieri).\n",
    "- L'aggiornamento su segnalazione avviene su richiesta del titolare del dato.\n"
   ]
  },
  {
   "cell_type": "markdown",
   "metadata": {},
   "source": [
    "### Conversione formato geografico per dataset di AperTO\n",
    "\n",
    "Per ogni dataset è necessario:\n",
    "\n",
    "- inserire il campo **\"CATEGORIA\"** che non è indicato nel dataset stesso ma si recupera nell'alberatura della struttura proposta dal Geoportale (volendo può essere in parte rimpiazzato dalla categorie di DAF ma ritengo possa essere utile inserirlo nel dataset anche se l'info viene poi ridondata su tutti i record)\n",
    "\n",
    "- convertire le info geografiche nel formato **WSG84**: i dati della Città di Torino sono acquisiti nel sistema di riferimento Gauss Boaga sui grigliati catastali. Il codice internazionale di riferimento è: \n",
    "\n",
    "EPSG 3003 – Monte Mario Italy Zone 1. \n",
    "\n",
    "In particolare per ogni dataset in cui i record rappresentano dei punti geografici, è necessario convertire anche le colonne riferite a latitudine e longitudine.\n",
    "Queste informazioni saranno poi utili per la visualizzazione su Superset.\n",
    "\n",
    "- prevedere il campo **\"QUARTIERE\"** che sarà inizialmente vuoto e che verrà poi valorizzato con il quartiere di riferimento che al momento oggi non è presente\n"
   ]
  },
  {
   "cell_type": "code",
   "execution_count": 1,
   "metadata": {},
   "outputs": [],
   "source": [
    "import pandas as pd\n",
    "import json \n",
    "import os\n",
    "import glob\n",
    "import geopandas as gpd\n",
    "import shapely.wkt\n",
    "from geopandas import GeoDataFrame\n",
    "from shapely.geometry import Point\n",
    "from fiona.crs import from_epsg"
   ]
  },
  {
   "cell_type": "code",
   "execution_count": 2,
   "metadata": {},
   "outputs": [],
   "source": [
    "#http://www.spatialreference.org/ref/epsg/2263/\n",
    "def df_to_gdf_convert(input_df, input_crs, output_crs, input_geo): #read 3003, convert to WSG84\n",
    "    \"\"\"\n",
    "    Convert a DataFrame with longitude and latitude columns\n",
    "    to a GeoDataFrame. 3003\n",
    "    \"\"\"\n",
    "    crs = {'init': 'epsg:3003'}\n",
    "    geo_df = GeoDataFrame(input_df, crs=crs, geometry=input_geo)\n",
    "    #conversione sistema di riferimento\n",
    "    geo_df['geometry'] = geo_df['geometry'].to_crs(epsg=output_crs)\n",
    "    geo_df[\"latitudine\"] = geo_df.geometry.x\n",
    "    geo_df[\"longitudine\"] = geo_df.geometry.y\n",
    "    \n",
    "    return geo_df"
   ]
  },
  {
   "cell_type": "code",
   "execution_count": 3,
   "metadata": {},
   "outputs": [],
   "source": [
    "def df_to_gdf(input_df): #read 3003, convert to WSG84\n",
    "    \"\"\"\n",
    "    Convert a DataFrame with longitude and latitude columns\n",
    "    to a GeoDataFrame. 3003\n",
    "    \"\"\"\n",
    "    df = input_df.copy()\n",
    "    geometry = [Point(xy) for xy in zip(df.longitude, df.latitude)]\n",
    "    geo = gpd.GeoDataFrame(df, crs=3003, geometry=geometry)\n",
    "  \n",
    "    geo.crs = {'init' :'epsg:3003'}\n",
    "    geo = geo.to_crs(epsg=4326)\n",
    "    geo.crs = {'init': 'epsg:4326'}\n",
    "    \n",
    "    return geo"
   ]
  },
  {
   "cell_type": "code",
   "execution_count": 19,
   "metadata": {},
   "outputs": [
    {
     "name": "stdout",
     "output_type": "stream",
     "text": [
      "./original/impianti_sportivi.csv\n"
     ]
    }
   ],
   "source": [
    "folder_dati = \"original\"\n",
    "folder = glob.glob('./'+folder_dati+'/*.csv')\n",
    "\n",
    "for file_ in folder:\n",
    "    print (file_)\n",
    "    name =  (os.path.basename(file_)).split(\".\")[0]\n",
    "    #leggo il dataset originario\n",
    "    df = pd.read_csv(file_, sep=\";\", encoding=\"ISO-8859-1\", decimal=\",\")\n",
    "    \n",
    "    #aggiungo campo quartiere vuoto per implementazione futura ma già per permettere metadatazione\n",
    "    df[\"QUARTIERE\"]=\"\"\n",
    "   \n",
    "    geometry = df['WKT_GEOM'].map(shapely.wkt.loads)\n",
    "    \n",
    "    #cancello i campi con il vecchio sistema di riferimento\n",
    "    df = df.drop('WKT_GEOM', axis=1)\n",
    "    df = df.drop('COORD_X', axis=1)\n",
    "    df = df.drop('COORD_Y', axis=1)\n",
    "    \n",
    "    crs = {'init': 'epsg:3003'}\n",
    "    \n",
    "    gdf = gpd.GeoDataFrame(df, crs=crs, geometry=geometry)\n",
    "    gdf['geometry'] = gdf['geometry'].to_crs(epsg=4326)\n",
    "    \n",
    "    #x and y attribute access only provided for Point geometries, \n",
    "    #attribuiamo al campo latitudine e longitudine le coordinate del centroide in modo che anche se si tratta di un poligono lo si riesca a ricavare \n",
    "   \n",
    "    gdf[\"LATITUDE\"] = gdf.geometry.centroid.y\n",
    "    gdf[\"LONGITUDE\"] = gdf.geometry.centroid.x\n",
    "    \n",
    "    gdf.to_csv(\"./output/\"+name+\".csv\", index=False, sep=\";\" )"
   ]
  },
  {
   "cell_type": "code",
   "execution_count": null,
   "metadata": {},
   "outputs": [],
   "source": [
    "#test\n",
    "df = pd.read_csv(\"attivita_commerciali.csv\", sep=\";\", encoding=\"ISO-8859-1\", decimal=\",\")\n",
    "df.rename(columns={\"COORD_X\": 'lat', \"COORD_Y\": 'lon'}, inplace=True)\n",
    "geometry = [Point(xy) for xy in zip(df.COORD_X, df.COORD_Y)]\n",
    "crs = {'init': 'epsg:3003'} #http://www.spatialreference.org/ref/epsg/2263/\n",
    "geo_df = GeoDataFrame(df, crs=crs, geometry=geometry)\n",
    "#conversion\n",
    "geo_df['geometry'] = geo_df['geometry'].to_crs(epsg=4326)\n",
    "geo_df[\"latitudine\"] = geo_df.geometry.y\n",
    "geo_df[\"longitudine\"] = geo_df.geometry.x\n"
   ]
  },
  {
   "cell_type": "code",
   "execution_count": 45,
   "metadata": {},
   "outputs": [
    {
     "data": {
      "text/plain": [
       "<matplotlib.axes._subplots.AxesSubplot at 0x10877f2e8>"
      ]
     },
     "execution_count": 45,
     "metadata": {},
     "output_type": "execute_result"
    }
   ],
   "source": [
    "geo_df.plot()"
   ]
  },
  {
   "cell_type": "code",
   "execution_count": 100,
   "metadata": {},
   "outputs": [
    {
     "data": {
      "text/plain": [
       "<matplotlib.axes._subplots.AxesSubplot at 0x11553cbe0>"
      ]
     },
     "execution_count": 100,
     "metadata": {},
     "output_type": "execute_result"
    },
    {
     "data": {
      "image/png": "[encoded data removed]",
      "text/plain": [
       "<Figure size 432x288 with 1 Axes>"
      ]
     },
     "metadata": {},
     "output_type": "display_data"
    }
   ],
   "source": [
    "#Read GeoJson\n",
    "fname = \"./ultimi_geojson_CSI/ex_quartieri.geojson\"\n",
    "df = gpd.read_file(fname)\n",
    "df.plot()"
   ]
  },
  {
   "cell_type": "code",
   "execution_count": 8,
   "metadata": {
    "scrolled": true
   },
   "outputs": [],
   "source": [
    "#Read CSV\n",
    "df = pd.read_csv(\"scuole.csv\", sep=\";\", encoding=\"ISO-8859-1\", decimal=\",\")\n",
    "df.rename(columns={\"COORD_X\": 'latitude', \"COORD_Y\": 'longitude'}, inplace=True)"
   ]
  }
 ],
 "metadata": {
  "kernelspec": {
   "display_name": "Python [conda env:mappa]",
   "language": "python",
   "name": "conda-env-mappa-py"
  },
  "language_info": {
   "codemirror_mode": {
    "name": "ipython",
    "version": 3
   },
   "file_extension": ".py",
   "mimetype": "text/x-python",
   "name": "python",
   "nbconvert_exporter": "python",
   "pygments_lexer": "ipython3",
   "version": "3.5.5"
  }
 },
 "nbformat": 4,
 "nbformat_minor": 2
}
